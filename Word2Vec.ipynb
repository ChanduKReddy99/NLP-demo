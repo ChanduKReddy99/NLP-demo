{
 "cells": [
  {
   "cell_type": "code",
   "execution_count": 14,
   "id": "87584110-97cc-4fb0-967e-284d340e6185",
   "metadata": {},
   "outputs": [],
   "source": [
    "import re\n",
    "import gensim\n",
    "from gensim.utils import simple_preprocess\n",
    "from nltk.stem import WordNetLemmatizer\n",
    "from nltk.corpus import stopwords\n"
   ]
  },
  {
   "cell_type": "code",
   "execution_count": 8,
   "id": "e38bfa18-93e0-4f39-9463-3711b5920d11",
   "metadata": {},
   "outputs": [],
   "source": [
    "# Lets start with a small text data 1st:\n",
    "\n",
    "data= 'hello everybody!. Well-come to NLP tutorial. We are going to see the simple text preprocessing. Going \\\n",
    "to use stemmer & lemmatization from nltk library.'"
   ]
  },
  {
   "cell_type": "code",
   "execution_count": 10,
   "id": "c77d9682-643e-4c7f-81ad-1db5db576345",
   "metadata": {},
   "outputs": [],
   "source": [
    "#lets breakdown the text in sentences:\n",
    "\n",
    "sentences= nltk.sent_tokenize(data)"
   ]
  },
  {
   "cell_type": "code",
   "execution_count": 11,
   "id": "45f02817-4ade-4e00-a2d9-ff8eb05b7989",
   "metadata": {},
   "outputs": [
    {
     "data": {
      "text/plain": [
       "['hello everybody!.',\n",
       " 'Well-come to NLP tutorial.',\n",
       " 'We are going to see the simple text preprocessing.',\n",
       " 'Going to use stemmer & lemmatization from nltk library.']"
      ]
     },
     "execution_count": 11,
     "metadata": {},
     "output_type": "execute_result"
    }
   ],
   "source": [
    "sentences"
   ]
  },
  {
   "cell_type": "code",
   "execution_count": 17,
   "id": "a4ddf5d0-2e7c-40eb-958b-9725fc878f50",
   "metadata": {},
   "outputs": [],
   "source": [
    "#lets clean the data \n",
    "\n",
    "corpus=[]\n",
    "\n",
    "for i in range(len(sentences)):\n",
    "    review= re.sub('[^a-zA-Z0-9]',' ', sentences[i])\n",
    "    corpus.append(review)\n",
    "                                                                         "
   ]
  },
  {
   "cell_type": "code",
   "execution_count": 18,
   "id": "751e534c-0936-4c1e-a71d-57136301287c",
   "metadata": {},
   "outputs": [
    {
     "data": {
      "text/plain": [
       "['hello everybody  ',\n",
       " 'Well come to NLP tutorial ',\n",
       " 'We are going to see the simple text preprocessing ',\n",
       " 'Going to use stemmer   lemmatization from nltk library ']"
      ]
     },
     "execution_count": 18,
     "metadata": {},
     "output_type": "execute_result"
    }
   ],
   "source": [
    "corpus"
   ]
  },
  {
   "cell_type": "code",
   "execution_count": 22,
   "id": "f5143498-9b36-411e-a210-a83220e71175",
   "metadata": {},
   "outputs": [
    {
     "name": "stdout",
     "output_type": "stream",
     "text": [
      "hello\n",
      "everybody\n",
      "Well\n",
      "come\n",
      "NLP\n",
      "tutorial\n",
      "We\n",
      "going\n",
      "see\n",
      "simple\n",
      "text\n",
      "preprocessing\n",
      "Going\n",
      "use\n",
      "stemmer\n",
      "lemmatization\n",
      "nltk\n",
      "library\n"
     ]
    }
   ],
   "source": [
    "#apply lemmatization\n",
    "\n",
    "\n",
    "lemma= WordNetLemmatizer()\n",
    "\n",
    "for sents in corpus:\n",
    "    words= nltk.word_tokenize(sents)\n",
    "    for word in words:\n",
    "        if word not in set(stopwords.words('english')):\n",
    "            print(lemma.lemmatize(word))\n",
    "                           \n",
    "        \n",
    "\n",
    "\n",
    "\n",
    "# for i in range(len(corpus)):\n",
    "#     words= nltk.word_tokenize(corpus[i])\n",
    "#     words= [lemma.lemmatize(word) for word in words if word not in set(stopwords.words('english'))]\n",
    "#     corpus[i]= ' '.join(words)\n",
    "    "
   ]
  },
  {
   "cell_type": "code",
   "execution_count": 21,
   "id": "03293a30-5fe4-4e08-898f-64622ac344b0",
   "metadata": {},
   "outputs": [
    {
     "data": {
      "text/plain": [
       "['hello everybody',\n",
       " 'Well come NLP tutorial',\n",
       " 'We going see simple text preprocessing',\n",
       " 'Going use stemmer lemmatization nltk library']"
      ]
     },
     "execution_count": 21,
     "metadata": {},
     "output_type": "execute_result"
    }
   ],
   "source": [
    "corpus"
   ]
  },
  {
   "cell_type": "code",
   "execution_count": null,
   "id": "c6c3011a-1e62-4583-a0a2-705bd480e999",
   "metadata": {},
   "outputs": [],
   "source": []
  }
 ],
 "metadata": {
  "kernelspec": {
   "display_name": "Python 3 (ipykernel)",
   "language": "python",
   "name": "python3"
  },
  "language_info": {
   "codemirror_mode": {
    "name": "ipython",
    "version": 3
   },
   "file_extension": ".py",
   "mimetype": "text/x-python",
   "name": "python",
   "nbconvert_exporter": "python",
   "pygments_lexer": "ipython3",
   "version": "3.9.7"
  }
 },
 "nbformat": 4,
 "nbformat_minor": 5
}
