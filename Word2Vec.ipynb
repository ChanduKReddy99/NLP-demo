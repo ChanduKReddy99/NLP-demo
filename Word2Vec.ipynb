{
 "cells": [
  {
   "cell_type": "markdown",
   "id": "5571f718-d35c-4d8a-8596-310e87135d24",
   "metadata": {},
   "source": [
    "# Word2Vec:\n",
    "\n",
    "Here I am implementing Word2Vec from scratch. I am not using the pre-trained models \n",
    "like google's: word2vec-google-news-300, which by default has 300 dims for each word."
   ]
  },
  {
   "cell_type": "code",
   "execution_count": 1,
   "id": "87584110-97cc-4fb0-967e-284d340e6185",
   "metadata": {},
   "outputs": [],
   "source": [
    "import re\n",
    "import gensim\n",
    "from gensim.utils import simple_preprocess\n",
    "from nltk.stem import WordNetLemmatizer\n",
    "from nltk.corpus import stopwords\n",
    "import nltk\n",
    "import numpy as np"
   ]
  },
  {
   "cell_type": "code",
   "execution_count": 2,
   "id": "e38bfa18-93e0-4f39-9463-3711b5920d11",
   "metadata": {},
   "outputs": [],
   "source": [
    "# Lets start with a small text data 1st:\n",
    "\n",
    "data= 'hello everybody!. Welcome to NLP tutorial. We are going to see the simple text preprocessing. Going \\\n",
    "to use stemmer & lemmatization from nltk-library.'"
   ]
  },
  {
   "cell_type": "code",
   "execution_count": 3,
   "id": "c77d9682-643e-4c7f-81ad-1db5db576345",
   "metadata": {},
   "outputs": [],
   "source": [
    "#lets breakdown the text in sentences:\n",
    "\n",
    "sentences= nltk.sent_tokenize(data)"
   ]
  },
  {
   "cell_type": "code",
   "execution_count": 4,
   "id": "45f02817-4ade-4e00-a2d9-ff8eb05b7989",
   "metadata": {},
   "outputs": [
    {
     "data": {
      "text/plain": [
       "['hello everybody!.',\n",
       " 'Welcome to NLP tutorial.',\n",
       " 'We are going to see the simple text preprocessing.',\n",
       " 'Going to use stemmer & lemmatization from nltk-library.']"
      ]
     },
     "execution_count": 4,
     "metadata": {},
     "output_type": "execute_result"
    }
   ],
   "source": [
    "sentences"
   ]
  },
  {
   "cell_type": "code",
   "execution_count": 5,
   "id": "f5143498-9b36-411e-a210-a83220e71175",
   "metadata": {},
   "outputs": [],
   "source": [
    "#apply lemmatization & cleaning data \n",
    "\n",
    "\n",
    "lemma= WordNetLemmatizer()\n",
    "\n",
    "# for sents in corpus:\n",
    "#     words= nltk.word_tokenize(sents)\n",
    "#     for word in words:\n",
    "#         if word not in set(stopwords.words('english')):\n",
    "#             print(lemma.lemmatize(word))\n",
    "                           \n",
    "corpus=[]        \n",
    "for i in range(len(sentences)):\n",
    "    words= re.sub('[^a-zA-Z0-9]',' ', sentences[i])\n",
    "    words= nltk.word_tokenize(words)\n",
    "    words= [lemma.lemmatize(word) for word in words if word not in set(stopwords.words('english'))]\n",
    "    words= ' '.join(words)\n",
    "    corpus.append(words)"
   ]
  },
  {
   "cell_type": "code",
   "execution_count": 6,
   "id": "ff80cec6-0cd4-4668-bffc-98e36a0578e9",
   "metadata": {},
   "outputs": [
    {
     "data": {
      "text/plain": [
       "['hello everybody',\n",
       " 'Welcome NLP tutorial',\n",
       " 'We going see simple text preprocessing',\n",
       " 'Going use stemmer lemmatization nltk library']"
      ]
     },
     "execution_count": 6,
     "metadata": {},
     "output_type": "execute_result"
    }
   ],
   "source": [
    "corpus"
   ]
  },
  {
   "cell_type": "code",
   "execution_count": 7,
   "id": "3f6c8c0f-1f2b-4f8f-aa10-ef4ea24b82db",
   "metadata": {},
   "outputs": [],
   "source": [
    "# here simple_preprocessing smaller the words and also breaks sentences in to words list of each sentence.\n",
    "\n",
    "words=[]\n",
    "for word in corpus:\n",
    "    words.append(simple_preprocess(word))"
   ]
  },
  {
   "cell_type": "code",
   "execution_count": 8,
   "id": "2f5afb3a-2dd9-4dbe-a9dd-7cda9b6fcf02",
   "metadata": {},
   "outputs": [
    {
     "data": {
      "text/plain": [
       "[['hello', 'everybody'],\n",
       " ['welcome', 'nlp', 'tutorial'],\n",
       " ['we', 'going', 'see', 'simple', 'text', 'preprocessing'],\n",
       " ['going', 'use', 'stemmer', 'lemmatization', 'nltk', 'library']]"
      ]
     },
     "execution_count": 8,
     "metadata": {},
     "output_type": "execute_result"
    }
   ],
   "source": [
    "words"
   ]
  },
  {
   "cell_type": "code",
   "execution_count": 9,
   "id": "7bbd071b-ce40-497e-92a8-12eb4ee68270",
   "metadata": {},
   "outputs": [],
   "source": [
    "#lets build the word2vec model. This model's default dimension of word vector is 100.\n",
    "\n",
    "model= gensim.models.Word2Vec(words, window=3, min_count=1)\n"
   ]
  },
  {
   "cell_type": "code",
   "execution_count": 10,
   "id": "bd274416-7e41-4d55-a792-1bbe5a1f6347",
   "metadata": {},
   "outputs": [
    {
     "data": {
      "text/plain": [
       "['going',\n",
       " 'library',\n",
       " 'nltk',\n",
       " 'lemmatization',\n",
       " 'stemmer',\n",
       " 'use',\n",
       " 'preprocessing',\n",
       " 'text',\n",
       " 'simple',\n",
       " 'see',\n",
       " 'we',\n",
       " 'tutorial',\n",
       " 'nlp',\n",
       " 'welcome',\n",
       " 'everybody',\n",
       " 'hello']"
      ]
     },
     "execution_count": 10,
     "metadata": {},
     "output_type": "execute_result"
    }
   ],
   "source": [
    "model.wv.index_to_key"
   ]
  },
  {
   "cell_type": "code",
   "execution_count": 11,
   "id": "409951b7-65ca-428d-8125-7a340cf6745e",
   "metadata": {},
   "outputs": [
    {
     "data": {
      "text/plain": [
       "[('tutorial', 0.16694684326648712),\n",
       " ('stemmer', 0.13887985050678253),\n",
       " ('lemmatization', 0.13149002194404602),\n",
       " ('nltk', 0.06408979743719101),\n",
       " ('simple', 0.06059184670448303),\n",
       " ('welcome', 0.044106729328632355),\n",
       " ('we', 0.020000355318188667),\n",
       " ('preprocessing', 0.019152285531163216),\n",
       " ('library', 0.009391160681843758),\n",
       " ('hello', -0.0262751504778862)]"
      ]
     },
     "execution_count": 11,
     "metadata": {},
     "output_type": "execute_result"
    }
   ],
   "source": [
    "model.wv.similar_by_word('use')"
   ]
  },
  {
   "cell_type": "code",
   "execution_count": 12,
   "id": "c6250726-4267-4cca-851a-b7cf1e70b26f",
   "metadata": {},
   "outputs": [
    {
     "data": {
      "text/plain": [
       "4"
      ]
     },
     "execution_count": 12,
     "metadata": {},
     "output_type": "execute_result"
    }
   ],
   "source": [
    "model.corpus_count"
   ]
  },
  {
   "cell_type": "code",
   "execution_count": 13,
   "id": "0cef98a4-fc11-4151-bc97-ae7de09c6baf",
   "metadata": {},
   "outputs": [
    {
     "data": {
      "text/plain": [
       "5"
      ]
     },
     "execution_count": 13,
     "metadata": {},
     "output_type": "execute_result"
    }
   ],
   "source": [
    "model.epochs"
   ]
  },
  {
   "cell_type": "code",
   "execution_count": 14,
   "id": "08922a95-7bef-49fb-abf2-6dc85ad60418",
   "metadata": {},
   "outputs": [
    {
     "data": {
      "text/plain": [
       "(100,)"
      ]
     },
     "execution_count": 14,
     "metadata": {},
     "output_type": "execute_result"
    }
   ],
   "source": [
    "model.wv['going'].shape"
   ]
  },
  {
   "cell_type": "code",
   "execution_count": 15,
   "id": "0226cda3-b529-4cb7-bfe8-b4c795430a56",
   "metadata": {},
   "outputs": [
    {
     "data": {
      "text/plain": [
       "0.21617141"
      ]
     },
     "execution_count": 15,
     "metadata": {},
     "output_type": "execute_result"
    }
   ],
   "source": [
    "model.wv.similarity('going','see')"
   ]
  },
  {
   "cell_type": "code",
   "execution_count": 16,
   "id": "0320e314-aaad-41b7-b58e-7a57fa0032d3",
   "metadata": {},
   "outputs": [
    {
     "data": {
      "text/plain": [
       "[('see', 0.21617142856121063),\n",
       " ('nlp', 0.0931011214852333),\n",
       " ('text', 0.09291722625494003),\n",
       " ('tutorial', 0.07963486760854721),\n",
       " ('we', 0.06285078823566437),\n",
       " ('hello', 0.05433367192745209),\n",
       " ('simple', 0.0270574688911438),\n",
       " ('preprocessing', 0.016134677454829216),\n",
       " ('library', -0.01083916611969471),\n",
       " ('stemmer', -0.027750369161367416)]"
      ]
     },
     "execution_count": 16,
     "metadata": {},
     "output_type": "execute_result"
    }
   ],
   "source": [
    "model.wv.most_similar('going')"
   ]
  },
  {
   "cell_type": "code",
   "execution_count": 17,
   "id": "b2f2dfb3-3fe4-41f8-b75b-1bb2d4738878",
   "metadata": {},
   "outputs": [],
   "source": [
    "#lets print the vector for all the words\n",
    "\n",
    "def w2vector(doc):\n",
    "    return ([model.wv[word]for word in doc if word in model.wv.index_to_key])"
   ]
  },
  {
   "cell_type": "code",
   "execution_count": 18,
   "id": "2c6c3d62-87b4-4dc2-aebd-c29af4a97bc6",
   "metadata": {},
   "outputs": [],
   "source": [
    "word_vectors=[]\n",
    "for i in range(len(words)):\n",
    "    word_vectors.append(w2vector(words[i]))"
   ]
  },
  {
   "cell_type": "code",
   "execution_count": 19,
   "id": "2a11b59b-8c22-497b-b6aa-5734b18ef306",
   "metadata": {},
   "outputs": [
    {
     "data": {
      "text/plain": [
       "list"
      ]
     },
     "execution_count": 19,
     "metadata": {},
     "output_type": "execute_result"
    }
   ],
   "source": [
    "type(word_vectors)"
   ]
  },
  {
   "cell_type": "code",
   "execution_count": 21,
   "id": "2d3d3aca-0a4c-4598-bef0-f0ed53b3d86c",
   "metadata": {},
   "outputs": [
    {
     "data": {
      "text/plain": [
       "[array([-7.1909428e-03,  4.2328904e-03,  2.1633946e-03,  7.4407146e-03,\n",
       "        -4.8892652e-03, -4.5643463e-03, -6.0981740e-03,  3.2993674e-03,\n",
       "        -4.4994629e-03,  8.5228849e-03, -4.2888271e-03, -9.1054197e-03,\n",
       "        -4.8163556e-03,  6.4164903e-03, -6.3713240e-03, -5.2615367e-03,\n",
       "        -7.3044109e-03,  6.0222615e-03,  3.3575939e-03,  2.8483903e-03,\n",
       "        -3.1385506e-03,  6.0308911e-03, -6.1527453e-03, -1.9801008e-03,\n",
       "        -5.9830821e-03, -9.9568011e-04, -2.0209861e-03,  8.4859459e-03,\n",
       "         7.8001023e-05, -8.5753258e-03, -5.4290984e-03, -6.8759858e-03,\n",
       "         2.6923812e-03,  9.4566476e-03, -5.8159959e-03,  8.2650259e-03,\n",
       "         8.5320519e-03, -7.0626391e-03, -8.8832127e-03,  9.4691841e-03,\n",
       "         8.3743641e-03, -4.6908916e-03, -6.7260410e-03,  7.8421365e-03,\n",
       "         3.7633455e-03,  8.0955038e-03, -7.5715459e-03, -9.5250849e-03,\n",
       "         1.5774060e-03, -9.8057678e-03, -4.8858845e-03, -3.4601032e-03,\n",
       "         9.6209226e-03,  8.6235693e-03, -2.8356076e-03,  5.8268728e-03,\n",
       "         8.2370946e-03, -2.2629809e-03,  9.5285419e-03,  7.1602152e-03,\n",
       "         2.0415008e-03, -3.8487636e-03, -5.0817500e-03, -3.0516528e-03,\n",
       "         7.8878645e-03, -6.1904346e-03, -2.9150224e-03,  9.1910223e-03,\n",
       "         3.4566557e-03,  6.0726120e-03, -8.0328165e-03, -7.5150491e-04,\n",
       "         5.5224476e-03, -4.7144685e-03,  7.4784933e-03,  9.3195913e-03,\n",
       "        -4.0936828e-04, -2.0636010e-03, -5.9335830e-04, -5.7858895e-03,\n",
       "        -8.3862813e-03, -1.5068734e-03, -2.5571836e-03,  4.3824338e-03,\n",
       "        -6.8675173e-03,  5.4136957e-03, -6.7450856e-03, -7.8202896e-03,\n",
       "         8.4717115e-03,  8.9186141e-03, -3.4812402e-03,  3.4914147e-03,\n",
       "        -5.7957349e-03, -8.7500857e-03, -5.5155717e-03,  6.7487289e-03,\n",
       "         6.4177597e-03,  9.4380733e-03,  7.0552849e-03,  6.7549525e-03],\n",
       "       dtype=float32),\n",
       " array([ 7.6966463e-03,  9.1206422e-03,  1.1355019e-03, -8.3250795e-03,\n",
       "         8.4250160e-03, -3.6962307e-03,  5.7421732e-03,  4.3915794e-03,\n",
       "         9.6899448e-03, -9.2934975e-03,  9.2084054e-03, -9.2815282e-03,\n",
       "        -6.9077122e-03, -9.1021946e-03, -5.5471100e-03,  7.3688962e-03,\n",
       "         9.1644777e-03, -3.3253515e-03,  3.7230505e-03, -3.6252034e-03,\n",
       "         7.8814710e-03,  5.8668759e-03,  2.0861626e-07, -3.6286747e-03,\n",
       "        -7.2243060e-03,  4.7686161e-03,  1.4529788e-03, -2.6131857e-03,\n",
       "         7.8378068e-03, -4.0496145e-03, -9.1489861e-03, -2.2554707e-03,\n",
       "         1.2514711e-04, -6.6392552e-03, -5.4866159e-03, -8.4997769e-03,\n",
       "         9.2298733e-03,  7.4240281e-03, -2.9524326e-04,  7.3676636e-03,\n",
       "         7.9507884e-03, -7.8357337e-04,  6.6120909e-03,  3.7675237e-03,\n",
       "         5.0768424e-03,  7.2529912e-03, -4.7393893e-03, -2.1855331e-03,\n",
       "         8.7312341e-04,  4.2362059e-03,  3.3043313e-03,  5.0958274e-03,\n",
       "         4.5864857e-03, -8.4385090e-03, -3.1838394e-03, -7.2367596e-03,\n",
       "         9.6814223e-03,  5.0065992e-03,  1.7084122e-04,  4.1129780e-03,\n",
       "        -7.6561309e-03, -6.2946510e-03,  3.0763936e-03,  6.5346383e-03,\n",
       "         3.9498745e-03,  6.0180221e-03, -1.9861318e-03, -3.3451295e-03,\n",
       "         2.0717025e-04, -3.1943608e-03, -5.5169044e-03, -7.7885604e-03,\n",
       "         6.5355431e-03, -1.0903371e-03, -1.8908798e-03, -7.8047751e-03,\n",
       "         9.3375733e-03,  8.6814165e-04,  1.7696369e-03,  2.4916660e-03,\n",
       "        -7.3859929e-03,  1.6388226e-03,  2.9765631e-03, -8.5670296e-03,\n",
       "         4.9558021e-03,  2.4334085e-03,  7.4979127e-03,  5.0442982e-03,\n",
       "        -3.0317164e-03, -7.1629370e-03,  7.0962133e-03,  1.9015349e-03,\n",
       "         5.1992359e-03,  6.3811089e-03,  1.9122792e-03, -6.1276113e-03,\n",
       "        -6.2966346e-06,  8.2682976e-03, -6.0985480e-03,  9.4382809e-03],\n",
       "       dtype=float32)]"
      ]
     },
     "execution_count": 21,
     "metadata": {},
     "output_type": "execute_result"
    }
   ],
   "source": [
    "word_vectors[0]"
   ]
  },
  {
   "cell_type": "code",
   "execution_count": null,
   "id": "92ad25bd-ecda-4c3d-9cc5-dde088fd211e",
   "metadata": {},
   "outputs": [],
   "source": []
  },
  {
   "cell_type": "code",
   "execution_count": null,
   "id": "e00ad81f-44b3-45dd-bb08-f9fb1fa6c3d0",
   "metadata": {},
   "outputs": [],
   "source": []
  },
  {
   "cell_type": "markdown",
   "id": "a92745d7-f352-4459-80db-1dad64aac2ca",
   "metadata": {},
   "source": [
    "# AVG_WORD2VEC"
   ]
  },
  {
   "cell_type": "code",
   "execution_count": 22,
   "id": "baa9b0b6-1ee4-4d50-87bb-9901049255b0",
   "metadata": {},
   "outputs": [],
   "source": [
    "def avg_w2vec(doc):\n",
    "    return np.mean([model.wv[word]for word in doc if word in model.wv.index_to_key], axis=0)"
   ]
  },
  {
   "cell_type": "code",
   "execution_count": 23,
   "id": "dc69440b-02ff-41ec-a2d2-055fee1e3d86",
   "metadata": {},
   "outputs": [],
   "source": [
    "avg_word_vectors=[]\n",
    "for i in range(len(words)):\n",
    "    avg_word_vectors.append(avg_w2vec(words[i]))"
   ]
  },
  {
   "cell_type": "code",
   "execution_count": 24,
   "id": "60e40d0f-bffc-4bcc-8436-b3c0684a8fc4",
   "metadata": {},
   "outputs": [
    {
     "data": {
      "text/plain": [
       "array([ 2.52851751e-04,  6.67676609e-03,  1.64944818e-03, -4.42182412e-04,\n",
       "        1.76787539e-03, -4.13028849e-03, -1.78000424e-04,  3.84547329e-03,\n",
       "        2.59524095e-03, -3.85306310e-04,  2.45978916e-03, -9.19347443e-03,\n",
       "       -5.86203393e-03, -1.34285213e-03, -5.95921697e-03,  1.05367973e-03,\n",
       "        9.30033391e-04,  1.34845497e-03,  3.54032218e-03, -3.88406566e-04,\n",
       "        2.37146020e-03,  5.94888348e-03, -3.07626836e-03, -2.80438783e-03,\n",
       "       -6.60369406e-03,  1.88646792e-03, -2.84003618e-04,  2.93637998e-03,\n",
       "        3.95790394e-03, -6.31246995e-03, -7.28904223e-03, -4.56572836e-03,\n",
       "        1.40876416e-03,  1.40869617e-03, -5.65130590e-03, -1.17375515e-04,\n",
       "        8.88096262e-03,  1.80694507e-04, -4.58922796e-03,  8.41842405e-03,\n",
       "        8.16257671e-03, -2.73723248e-03, -5.69750555e-05,  5.80483023e-03,\n",
       "        4.42009419e-03,  7.67424749e-03, -6.15546759e-03, -5.85530885e-03,\n",
       "        1.22526474e-03, -2.78478093e-03, -7.90776568e-04,  8.17862106e-04,\n",
       "        7.10370392e-03,  9.25301574e-05, -3.00972350e-03, -7.04943435e-04,\n",
       "        8.95925798e-03,  1.37180916e-03,  4.84969141e-03,  5.63659659e-03,\n",
       "       -2.80731497e-03, -5.07170707e-03, -1.00267818e-03,  1.74149277e-03,\n",
       "        5.91886975e-03, -8.62062443e-05, -2.45057698e-03,  2.92294635e-03,\n",
       "        1.83191290e-03,  1.43912563e-03, -6.77486043e-03, -4.27003251e-03,\n",
       "        6.02899538e-03, -2.90240278e-03,  2.79380661e-03,  7.57408096e-04,\n",
       "        4.46410244e-03, -5.97729697e-04,  5.88139286e-04, -1.64711173e-03,\n",
       "       -7.88613688e-03,  6.59746001e-05,  2.09689722e-04, -2.09229789e-03,\n",
       "       -9.55857569e-04,  3.92355211e-03,  3.76413576e-04, -1.38799567e-03,\n",
       "        2.71999743e-03,  8.77838582e-04,  1.80748652e-03,  2.69647478e-03,\n",
       "       -2.98249535e-04, -1.18448841e-03, -1.80164631e-03,  3.10558826e-04,\n",
       "        3.20573151e-03,  8.85318592e-03,  4.78368485e-04,  8.09661672e-03],\n",
       "      dtype=float32)"
      ]
     },
     "execution_count": 24,
     "metadata": {},
     "output_type": "execute_result"
    }
   ],
   "source": [
    "avg_word_vectors[0]"
   ]
  },
  {
   "cell_type": "code",
   "execution_count": null,
   "id": "1fad15f6-49d6-4799-aca3-1f6f13f72e7a",
   "metadata": {},
   "outputs": [],
   "source": []
  },
  {
   "cell_type": "code",
   "execution_count": null,
   "id": "6b0b94f0-00ab-441e-bf11-b1a1ffa91b54",
   "metadata": {},
   "outputs": [],
   "source": []
  },
  {
   "cell_type": "code",
   "execution_count": null,
   "id": "968e7604-bcbe-450c-9c9a-9b224e884f08",
   "metadata": {},
   "outputs": [],
   "source": []
  },
  {
   "cell_type": "code",
   "execution_count": null,
   "id": "9bbe485e-5753-4f98-9e2a-997dc3f09025",
   "metadata": {},
   "outputs": [],
   "source": []
  },
  {
   "cell_type": "code",
   "execution_count": null,
   "id": "01de593e-56bc-4e64-9d3c-0302fc5d629f",
   "metadata": {},
   "outputs": [],
   "source": []
  },
  {
   "cell_type": "code",
   "execution_count": null,
   "id": "4d4d406c-5027-4add-ac6e-439007f936d3",
   "metadata": {},
   "outputs": [],
   "source": []
  },
  {
   "cell_type": "code",
   "execution_count": null,
   "id": "f0721817-2437-4e57-aeba-0331070281cf",
   "metadata": {},
   "outputs": [],
   "source": []
  },
  {
   "cell_type": "code",
   "execution_count": null,
   "id": "176a5538-e913-40f2-9c61-24ffbe9473c7",
   "metadata": {},
   "outputs": [],
   "source": []
  },
  {
   "cell_type": "code",
   "execution_count": null,
   "id": "29190160-10a7-4837-ae66-f018b458a5cc",
   "metadata": {},
   "outputs": [],
   "source": []
  },
  {
   "cell_type": "code",
   "execution_count": null,
   "id": "3d09968f-4322-4924-99ab-4e5453b720d8",
   "metadata": {},
   "outputs": [],
   "source": []
  },
  {
   "cell_type": "code",
   "execution_count": null,
   "id": "a96205f1-a54c-49cc-bf27-214e3bfe6cff",
   "metadata": {},
   "outputs": [],
   "source": []
  },
  {
   "cell_type": "code",
   "execution_count": null,
   "id": "4d2a16df-6d45-466e-8725-e2424e6ac1bc",
   "metadata": {},
   "outputs": [],
   "source": []
  },
  {
   "cell_type": "code",
   "execution_count": null,
   "id": "e0f1c818-7b4c-4959-8fb3-f1caec33429a",
   "metadata": {},
   "outputs": [],
   "source": []
  },
  {
   "cell_type": "code",
   "execution_count": null,
   "id": "7f8337d2-5f26-4d48-9bab-d6627fff7461",
   "metadata": {},
   "outputs": [],
   "source": []
  },
  {
   "cell_type": "code",
   "execution_count": null,
   "id": "107654b6-0224-465f-afd3-3c52a6e63ef0",
   "metadata": {},
   "outputs": [],
   "source": []
  },
  {
   "cell_type": "code",
   "execution_count": null,
   "id": "d448b938-dc9a-4ced-aaaa-1589d412baba",
   "metadata": {},
   "outputs": [],
   "source": []
  },
  {
   "cell_type": "code",
   "execution_count": null,
   "id": "2a2d949c-f71b-40c0-b4ab-a1c7c0f4f1b4",
   "metadata": {},
   "outputs": [],
   "source": []
  },
  {
   "cell_type": "code",
   "execution_count": null,
   "id": "f5e22482-a4b0-49db-a160-5f71caf57f29",
   "metadata": {},
   "outputs": [],
   "source": []
  },
  {
   "cell_type": "code",
   "execution_count": null,
   "id": "96034474-f88e-4e58-883f-0fbe33d7efbd",
   "metadata": {},
   "outputs": [],
   "source": []
  },
  {
   "cell_type": "code",
   "execution_count": null,
   "id": "0a0f9a80-0d90-4188-ad26-8e1292f5c4d8",
   "metadata": {},
   "outputs": [],
   "source": []
  },
  {
   "cell_type": "code",
   "execution_count": null,
   "id": "a29577d4-33a5-43e9-adfe-eb83672ea23c",
   "metadata": {},
   "outputs": [],
   "source": []
  },
  {
   "cell_type": "code",
   "execution_count": null,
   "id": "c6c3011a-1e62-4583-a0a2-705bd480e999",
   "metadata": {},
   "outputs": [],
   "source": []
  }
 ],
 "metadata": {
  "kernelspec": {
   "display_name": "Python 3 (ipykernel)",
   "language": "python",
   "name": "python3"
  },
  "language_info": {
   "codemirror_mode": {
    "name": "ipython",
    "version": 3
   },
   "file_extension": ".py",
   "mimetype": "text/x-python",
   "name": "python",
   "nbconvert_exporter": "python",
   "pygments_lexer": "ipython3",
   "version": "3.9.7"
  }
 },
 "nbformat": 4,
 "nbformat_minor": 5
}
