{
 "cells": [
  {
   "cell_type": "code",
   "execution_count": 1,
   "id": "e09b793d-2b4e-4831-93e6-5f0421187e3e",
   "metadata": {},
   "outputs": [],
   "source": [
    "import nltk\n",
    "import re\n",
    "from nltk.corpus import stopwords\n",
    "from nltk.stem import PorterStemmer, WordNetLemmatizer"
   ]
  },
  {
   "cell_type": "code",
   "execution_count": 2,
   "id": "207322eb-ea1a-4932-868b-934832006528",
   "metadata": {},
   "outputs": [],
   "source": [
    "# Lets start with a small text data 1st:\n",
    "\n",
    "data= 'hello everybody!. Well-come to NLP tutorial. We are going to see the simple text preprocessing. Going \\\n",
    "to use stemmer & lemmatization from nltk library.'"
   ]
  },
  {
   "cell_type": "code",
   "execution_count": 3,
   "id": "400532fd-dcaa-4bbc-8f38-55ef22acff85",
   "metadata": {},
   "outputs": [],
   "source": [
    "#lets breakdown the above pragraph in to sentences\n",
    "sentences= nltk.sent_tokenize(data)"
   ]
  },
  {
   "cell_type": "code",
   "execution_count": 4,
   "id": "afe79538-9c46-4c79-880b-c0d2efab996d",
   "metadata": {},
   "outputs": [
    {
     "data": {
      "text/plain": [
       "['hello everybody!.',\n",
       " 'Well-come to NLP tutorial.',\n",
       " 'We are going to see the simple text preprocessing.',\n",
       " 'Going to use stemmer & lemmatization from nltk library.']"
      ]
     },
     "execution_count": 4,
     "metadata": {},
     "output_type": "execute_result"
    }
   ],
   "source": [
    "sentences"
   ]
  },
  {
   "cell_type": "code",
   "execution_count": 5,
   "id": "b386074b-cd5e-4884-adb4-2738866868f0",
   "metadata": {},
   "outputs": [],
   "source": [
    "#lets clean the data a bit\n",
    "\n",
    "corpus= []\n",
    "\n",
    "for i in range(len(sentences)):\n",
    "    review= re.sub('[^a-zA-Z]', ' ', sentences[i])\n",
    "    review= review.lower()\n",
    "    corpus.append(review)"
   ]
  },
  {
   "cell_type": "code",
   "execution_count": 6,
   "id": "9e2e84ff-e071-4356-a601-380be9900d58",
   "metadata": {},
   "outputs": [
    {
     "data": {
      "text/plain": [
       "['hello everybody  ',\n",
       " 'well come to nlp tutorial ',\n",
       " 'we are going to see the simple text preprocessing ',\n",
       " 'going to use stemmer   lemmatization from nltk library ']"
      ]
     },
     "execution_count": 6,
     "metadata": {},
     "output_type": "execute_result"
    }
   ],
   "source": [
    "corpus"
   ]
  },
  {
   "cell_type": "code",
   "execution_count": 7,
   "id": "f5028e79-4f3a-45c6-98f1-7e347f800b66",
   "metadata": {},
   "outputs": [
    {
     "name": "stdout",
     "output_type": "stream",
     "text": [
      "hello\n",
      "everybodi\n",
      "well\n",
      "come\n",
      "nlp\n",
      "tutori\n",
      "go\n",
      "see\n",
      "simpl\n",
      "text\n",
      "preprocess\n",
      "go\n",
      "use\n",
      "stemmer\n",
      "lemmat\n",
      "nltk\n",
      "librari\n"
     ]
    }
   ],
   "source": [
    "# lets apply the stemming:\n",
    "\n",
    "stemmer= PorterStemmer()\n",
    "\n",
    "for sentences in corpus:\n",
    "    words= nltk.word_tokenize(sentences)\n",
    "    for word in words:\n",
    "        if word not in set(stopwords.words('english')):\n",
    "            print(stemmer.stem(word))"
   ]
  },
  {
   "cell_type": "markdown",
   "id": "92241417-c62b-4c70-a188-81afd975bd24",
   "metadata": {},
   "source": [
    "Note: In stemming few root words of the words in sentences may not have meaning in english. \n",
    "      To over-come this issue we use lemmatization"
   ]
  },
  {
   "cell_type": "code",
   "execution_count": 8,
   "id": "8b669b61-ddbd-49d1-931c-426f839f7e03",
   "metadata": {},
   "outputs": [
    {
     "name": "stdout",
     "output_type": "stream",
     "text": [
      "hello\n",
      "everybody\n",
      "well\n",
      "come\n",
      "nlp\n",
      "tutorial\n",
      "going\n",
      "see\n",
      "simple\n",
      "text\n",
      "preprocessing\n",
      "going\n",
      "use\n",
      "stemmer\n",
      "lemmatization\n",
      "nltk\n",
      "library\n"
     ]
    }
   ],
   "source": [
    "#lets apply lemmatization ot corpus\n",
    "\n",
    "lemma= WordNetLemmatizer()\n",
    "\n",
    "for sentences in corpus:\n",
    "    words= nltk.word_tokenize(sentences)\n",
    "    for word in words:\n",
    "        if word not in set(stopwords.words('english')):\n",
    "            print(lemma.lemmatize(word))"
   ]
  },
  {
   "cell_type": "markdown",
   "id": "7c9717ac-4935-42fb-8a8f-1255dcf7680c",
   "metadata": {},
   "source": [
    "Note: see the root words all are having a meaning in english"
   ]
  },
  {
   "cell_type": "code",
   "execution_count": 9,
   "id": "5c76f428-ed96-463b-829e-c053f96ea55c",
   "metadata": {},
   "outputs": [],
   "source": [
    "#lets apply same things to a larger data:\n",
    "\n",
    "data=  open('C:/Users/acreddy/Desktop/spacy_ds/nlp.txt').read()"
   ]
  },
  {
   "cell_type": "code",
   "execution_count": 10,
   "id": "248c20fd-57f4-42c8-b046-c1e41666e4bc",
   "metadata": {},
   "outputs": [
    {
     "data": {
      "text/plain": [
       "'I have three visions for India. In 3000 years of our history, people from all over \\nthe world have come and invaded us, captured our lands, conquered our minds. \\nFrom Alexander onwards, the Greeks, the Turks, the Moguls, the Portuguese, the British,\\nthe French, the Dutch, all of them came and looted us, took over what was ours. \\nYet we have not done this to any other nation. We have not conquered anyone. \\nWe have not grabbed their land, their culture, \\ntheir history and tried to enforce our way of life on them. \\nWhy? Because we respect the freedom of others.That is why my \\nfirst vision is that of freedom. I believe that India got its first vision of \\nthis in 1857, when we started the War of Independence. It is this freedom that\\nwe must protect and nurture and build on. If we are not free, no one will respect us.\\nMy second vision for Indiaâ€™s development. For fifty years we have been a developing nation.\\nIt is time we see ourselves as a developed nation. We are among the top 5 nations of the world\\nin terms of GDP. We have a 10 percent growth rate in most areas. Our poverty levels are falling.\\nOur achievements are being globally recognised today. Yet we lack the self-confidence to\\nsee ourselves as a developed nation, self-reliant and self-assured. Isnâ€™t this incorrect?\\nI have a third vision. India must stand up to the world. Because I believe that unless India \\nstands up to the world, no one will respect us. Only strength respects strength. We must be \\nstrong not only as a military power but also as an economic power. Both must go hand-in-hand. \\nMy good fortune was to have worked with three great minds. Dr. Vikram Sarabhai of the Dept. of \\nspace, Professor Satish Dhawan, who succeeded him and Dr. Brahm Prakash, father of nuclear material.\\nI was lucky to have worked with all three of them closely and consider this the great opportunity of my life. \\nI see four milestones in my career.'"
      ]
     },
     "execution_count": 10,
     "metadata": {},
     "output_type": "execute_result"
    }
   ],
   "source": [
    "data"
   ]
  },
  {
   "cell_type": "code",
   "execution_count": 11,
   "id": "e69fa5a4-aa1c-40e9-81c5-110b38d8f56b",
   "metadata": {},
   "outputs": [],
   "source": [
    "#lets breakdown in to sentences\n",
    "\n",
    "sents= nltk.sent_tokenize(data)"
   ]
  },
  {
   "cell_type": "code",
   "execution_count": 12,
   "id": "4299361f-037d-465d-a639-319b49d9b84f",
   "metadata": {},
   "outputs": [
    {
     "data": {
      "text/plain": [
       "['I have three visions for India.',\n",
       " 'In 3000 years of our history, people from all over \\nthe world have come and invaded us, captured our lands, conquered our minds.',\n",
       " 'From Alexander onwards, the Greeks, the Turks, the Moguls, the Portuguese, the British,\\nthe French, the Dutch, all of them came and looted us, took over what was ours.',\n",
       " 'Yet we have not done this to any other nation.',\n",
       " 'We have not conquered anyone.',\n",
       " 'We have not grabbed their land, their culture, \\ntheir history and tried to enforce our way of life on them.',\n",
       " 'Why?',\n",
       " 'Because we respect the freedom of others.That is why my \\nfirst vision is that of freedom.',\n",
       " 'I believe that India got its first vision of \\nthis in 1857, when we started the War of Independence.',\n",
       " 'It is this freedom that\\nwe must protect and nurture and build on.',\n",
       " 'If we are not free, no one will respect us.',\n",
       " 'My second vision for Indiaâ€™s development.',\n",
       " 'For fifty years we have been a developing nation.',\n",
       " 'It is time we see ourselves as a developed nation.',\n",
       " 'We are among the top 5 nations of the world\\nin terms of GDP.',\n",
       " 'We have a 10 percent growth rate in most areas.',\n",
       " 'Our poverty levels are falling.',\n",
       " 'Our achievements are being globally recognised today.',\n",
       " 'Yet we lack the self-confidence to\\nsee ourselves as a developed nation, self-reliant and self-assured.',\n",
       " 'Isnâ€™t this incorrect?',\n",
       " 'I have a third vision.',\n",
       " 'India must stand up to the world.',\n",
       " 'Because I believe that unless India \\nstands up to the world, no one will respect us.',\n",
       " 'Only strength respects strength.',\n",
       " 'We must be \\nstrong not only as a military power but also as an economic power.',\n",
       " 'Both must go hand-in-hand.',\n",
       " 'My good fortune was to have worked with three great minds.',\n",
       " 'Dr. Vikram Sarabhai of the Dept.',\n",
       " 'of \\nspace, Professor Satish Dhawan, who succeeded him and Dr. Brahm Prakash, father of nuclear material.',\n",
       " 'I was lucky to have worked with all three of them closely and consider this the great opportunity of my life.',\n",
       " 'I see four milestones in my career.']"
      ]
     },
     "execution_count": 12,
     "metadata": {},
     "output_type": "execute_result"
    }
   ],
   "source": [
    "sents"
   ]
  },
  {
   "cell_type": "code",
   "execution_count": 13,
   "id": "6bfce2e8-b793-4b5a-9d93-416e6c7d52e3",
   "metadata": {},
   "outputs": [],
   "source": [
    "#lets clean the data:\n",
    "\n",
    "corpus2=[]\n",
    "\n",
    "for i in range(len(sents)):\n",
    "    review= re.sub('[^a-zA-Z0-9]',' ', sents[i])\n",
    "    review= review.lower()\n",
    "    corpus2.append(review)"
   ]
  },
  {
   "cell_type": "code",
   "execution_count": 14,
   "id": "fdf4852b-67c5-41b0-8152-8b150aa0d27b",
   "metadata": {},
   "outputs": [
    {
     "data": {
      "text/plain": [
       "['i have three visions for india ',\n",
       " 'in 3000 years of our history  people from all over  the world have come and invaded us  captured our lands  conquered our minds ',\n",
       " 'from alexander onwards  the greeks  the turks  the moguls  the portuguese  the british  the french  the dutch  all of them came and looted us  took over what was ours ',\n",
       " 'yet we have not done this to any other nation ',\n",
       " 'we have not conquered anyone ',\n",
       " 'we have not grabbed their land  their culture   their history and tried to enforce our way of life on them ',\n",
       " 'why ',\n",
       " 'because we respect the freedom of others that is why my  first vision is that of freedom ',\n",
       " 'i believe that india got its first vision of  this in 1857  when we started the war of independence ',\n",
       " 'it is this freedom that we must protect and nurture and build on ',\n",
       " 'if we are not free  no one will respect us ',\n",
       " 'my second vision for india   s development ',\n",
       " 'for fifty years we have been a developing nation ',\n",
       " 'it is time we see ourselves as a developed nation ',\n",
       " 'we are among the top 5 nations of the world in terms of gdp ',\n",
       " 'we have a 10 percent growth rate in most areas ',\n",
       " 'our poverty levels are falling ',\n",
       " 'our achievements are being globally recognised today ',\n",
       " 'yet we lack the self confidence to see ourselves as a developed nation  self reliant and self assured ',\n",
       " 'isn   t this incorrect ',\n",
       " 'i have a third vision ',\n",
       " 'india must stand up to the world ',\n",
       " 'because i believe that unless india  stands up to the world  no one will respect us ',\n",
       " 'only strength respects strength ',\n",
       " 'we must be  strong not only as a military power but also as an economic power ',\n",
       " 'both must go hand in hand ',\n",
       " 'my good fortune was to have worked with three great minds ',\n",
       " 'dr  vikram sarabhai of the dept ',\n",
       " 'of  space  professor satish dhawan  who succeeded him and dr  brahm prakash  father of nuclear material ',\n",
       " 'i was lucky to have worked with all three of them closely and consider this the great opportunity of my life ',\n",
       " 'i see four milestones in my career ']"
      ]
     },
     "execution_count": 14,
     "metadata": {},
     "output_type": "execute_result"
    }
   ],
   "source": [
    "corpus2"
   ]
  },
  {
   "cell_type": "code",
   "execution_count": 15,
   "id": "d660b70b-cc46-4c5a-9dd7-f9a80ab8fde0",
   "metadata": {},
   "outputs": [],
   "source": [
    "#lets apply stemming:\n",
    "\n",
    "stemmer= PorterStemmer()\n",
    "\n",
    "for i in range(len(corpus2)):\n",
    "    words= nltk.word_tokenize(corpus2[i])\n",
    "    words= [stemmer.stem(word) for word in words if word not in set(stopwords.words('english'))]\n",
    "    corpus2[i]= ' '.join(words)"
   ]
  },
  {
   "cell_type": "code",
   "execution_count": 16,
   "id": "e9da55a7-a8dc-4a58-b02d-c061dffd0c42",
   "metadata": {},
   "outputs": [
    {
     "data": {
      "text/plain": [
       "['three vision india',\n",
       " '3000 year histori peopl world come invad us captur land conquer mind',\n",
       " 'alexand onward greek turk mogul portugues british french dutch came loot us took',\n",
       " 'yet done nation',\n",
       " 'conquer anyon',\n",
       " 'grab land cultur histori tri enforc way life',\n",
       " '',\n",
       " 'respect freedom other first vision freedom',\n",
       " 'believ india got first vision 1857 start war independ',\n",
       " 'freedom must protect nurtur build',\n",
       " 'free one respect us',\n",
       " 'second vision india develop',\n",
       " 'fifti year develop nation',\n",
       " 'time see develop nation',\n",
       " 'among top 5 nation world term gdp',\n",
       " '10 percent growth rate area',\n",
       " 'poverti level fall',\n",
       " 'achiev global recognis today',\n",
       " 'yet lack self confid see develop nation self reliant self assur',\n",
       " 'incorrect',\n",
       " 'third vision',\n",
       " 'india must stand world',\n",
       " 'believ unless india stand world one respect us',\n",
       " 'strength respect strength',\n",
       " 'must strong militari power also econom power',\n",
       " 'must go hand hand',\n",
       " 'good fortun work three great mind',\n",
       " 'dr vikram sarabhai dept',\n",
       " 'space professor satish dhawan succeed dr brahm prakash father nuclear materi',\n",
       " 'lucki work three close consid great opportun life',\n",
       " 'see four mileston career']"
      ]
     },
     "execution_count": 16,
     "metadata": {},
     "output_type": "execute_result"
    }
   ],
   "source": [
    "corpus2"
   ]
  },
  {
   "cell_type": "code",
   "execution_count": 19,
   "id": "41a58970-3aff-4bf1-bb99-64d1f6b0151e",
   "metadata": {},
   "outputs": [],
   "source": [
    "# lets apply Lemmatization:(since corpus2 has changed so if i take same corpus2 again it may lead to an issue, so \n",
    "#                            I am doing it from 1st step):\n",
    "\n",
    "corpus3=[]\n",
    "\n",
    "for i in range(len(sents)):\n",
    "    review= re.sub('[^a-zA-Z0-9]',' ', sents[i])\n",
    "    review= review.lower()\n",
    "    corpus3.append(review)\n"
   ]
  },
  {
   "cell_type": "code",
   "execution_count": 20,
   "id": "bb694fc4-d9a4-4761-afe0-c394a8075511",
   "metadata": {},
   "outputs": [
    {
     "data": {
      "text/plain": [
       "['i have three visions for india ',\n",
       " 'in 3000 years of our history  people from all over  the world have come and invaded us  captured our lands  conquered our minds ',\n",
       " 'from alexander onwards  the greeks  the turks  the moguls  the portuguese  the british  the french  the dutch  all of them came and looted us  took over what was ours ',\n",
       " 'yet we have not done this to any other nation ',\n",
       " 'we have not conquered anyone ',\n",
       " 'we have not grabbed their land  their culture   their history and tried to enforce our way of life on them ',\n",
       " 'why ',\n",
       " 'because we respect the freedom of others that is why my  first vision is that of freedom ',\n",
       " 'i believe that india got its first vision of  this in 1857  when we started the war of independence ',\n",
       " 'it is this freedom that we must protect and nurture and build on ',\n",
       " 'if we are not free  no one will respect us ',\n",
       " 'my second vision for india   s development ',\n",
       " 'for fifty years we have been a developing nation ',\n",
       " 'it is time we see ourselves as a developed nation ',\n",
       " 'we are among the top 5 nations of the world in terms of gdp ',\n",
       " 'we have a 10 percent growth rate in most areas ',\n",
       " 'our poverty levels are falling ',\n",
       " 'our achievements are being globally recognised today ',\n",
       " 'yet we lack the self confidence to see ourselves as a developed nation  self reliant and self assured ',\n",
       " 'isn   t this incorrect ',\n",
       " 'i have a third vision ',\n",
       " 'india must stand up to the world ',\n",
       " 'because i believe that unless india  stands up to the world  no one will respect us ',\n",
       " 'only strength respects strength ',\n",
       " 'we must be  strong not only as a military power but also as an economic power ',\n",
       " 'both must go hand in hand ',\n",
       " 'my good fortune was to have worked with three great minds ',\n",
       " 'dr  vikram sarabhai of the dept ',\n",
       " 'of  space  professor satish dhawan  who succeeded him and dr  brahm prakash  father of nuclear material ',\n",
       " 'i was lucky to have worked with all three of them closely and consider this the great opportunity of my life ',\n",
       " 'i see four milestones in my career ']"
      ]
     },
     "execution_count": 20,
     "metadata": {},
     "output_type": "execute_result"
    }
   ],
   "source": [
    "corpus3"
   ]
  },
  {
   "cell_type": "code",
   "execution_count": 21,
   "id": "94525465-58af-49ac-a829-f6b79f7be5a6",
   "metadata": {},
   "outputs": [],
   "source": [
    "#lets apply lemmatization to this new corpus3\n",
    "\n",
    "lemma= WordNetLemmatizer()\n",
    "\n",
    "for i in range(len(corpus3)):\n",
    "    words= nltk.word_tokenize(corpus3[i])\n",
    "    words= [lemma.lemmatize(word) for word in words if word not in set(stopwords.words('english'))]\n",
    "    corpus3[i]= ' '.join(words)"
   ]
  },
  {
   "cell_type": "code",
   "execution_count": 22,
   "id": "f56791f5-6836-4a88-bcbc-8044224eced8",
   "metadata": {},
   "outputs": [
    {
     "data": {
      "text/plain": [
       "['three vision india',\n",
       " '3000 year history people world come invaded u captured land conquered mind',\n",
       " 'alexander onwards greek turk mogul portuguese british french dutch came looted u took',\n",
       " 'yet done nation',\n",
       " 'conquered anyone',\n",
       " 'grabbed land culture history tried enforce way life',\n",
       " '',\n",
       " 'respect freedom others first vision freedom',\n",
       " 'believe india got first vision 1857 started war independence',\n",
       " 'freedom must protect nurture build',\n",
       " 'free one respect u',\n",
       " 'second vision india development',\n",
       " 'fifty year developing nation',\n",
       " 'time see developed nation',\n",
       " 'among top 5 nation world term gdp',\n",
       " '10 percent growth rate area',\n",
       " 'poverty level falling',\n",
       " 'achievement globally recognised today',\n",
       " 'yet lack self confidence see developed nation self reliant self assured',\n",
       " 'incorrect',\n",
       " 'third vision',\n",
       " 'india must stand world',\n",
       " 'believe unless india stand world one respect u',\n",
       " 'strength respect strength',\n",
       " 'must strong military power also economic power',\n",
       " 'must go hand hand',\n",
       " 'good fortune worked three great mind',\n",
       " 'dr vikram sarabhai dept',\n",
       " 'space professor satish dhawan succeeded dr brahm prakash father nuclear material',\n",
       " 'lucky worked three closely consider great opportunity life',\n",
       " 'see four milestone career']"
      ]
     },
     "execution_count": 22,
     "metadata": {},
     "output_type": "execute_result"
    }
   ],
   "source": [
    "corpus3"
   ]
  },
  {
   "cell_type": "code",
   "execution_count": null,
   "id": "cd4f2580-2882-4c29-9a2f-94c8677c47a6",
   "metadata": {},
   "outputs": [],
   "source": []
  },
  {
   "cell_type": "code",
   "execution_count": null,
   "id": "9f1fe961-4d1a-4258-a4c1-1345ddb5a700",
   "metadata": {},
   "outputs": [],
   "source": []
  }
 ],
 "metadata": {
  "kernelspec": {
   "display_name": "Python 3 (ipykernel)",
   "language": "python",
   "name": "python3"
  },
  "language_info": {
   "codemirror_mode": {
    "name": "ipython",
    "version": 3
   },
   "file_extension": ".py",
   "mimetype": "text/x-python",
   "name": "python",
   "nbconvert_exporter": "python",
   "pygments_lexer": "ipython3",
   "version": "3.10.4"
  }
 },
 "nbformat": 4,
 "nbformat_minor": 5
}
